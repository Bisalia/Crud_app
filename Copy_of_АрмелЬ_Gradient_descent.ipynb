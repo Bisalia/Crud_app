{
  "nbformat": 4,
  "nbformat_minor": 0,
  "metadata": {
    "colab": {
      "provenance": [],
      "authorship_tag": "ABX9TyMEv0YR66ZtBDjNC6Xmsz19",
      "include_colab_link": true
    },
    "kernelspec": {
      "name": "python3",
      "display_name": "Python 3"
    },
    "language_info": {
      "name": "python"
    }
  },
  "cells": [
    {
      "cell_type": "markdown",
      "metadata": {
        "id": "view-in-github",
        "colab_type": "text"
      },
      "source": [
        "<a href=\"https://colab.research.google.com/github/Bisalia/Crud_app/blob/main/Copy_of_%D0%90%D1%80%D0%BC%D0%B5%D0%BB%D0%AC_Gradient_descent.ipynb\" target=\"_parent\"><img src=\"https://colab.research.google.com/assets/colab-badge.svg\" alt=\"Open In Colab\"/></a>"
      ]
    },
    {
      "cell_type": "code",
      "execution_count": null,
      "metadata": {
        "id": "3hmPfn_oGRCg"
      },
      "outputs": [],
      "source": [
        "import numpy as np\n",
        "import pandas as pd\n",
        "import matplotlib.pyplot as plt\n",
        "from imblearn.over_sampling import RandomOverSampler\n",
        "from sklearn.preprocessing import StandardScaler\n",
        "import copy\n",
        "import seaborn as sns\n",
        "import tensorflow as tf\n",
        "from sklearn.linear_model import LinearRegression\n"
      ]
    },
    {
      "cell_type": "code",
      "source": [],
      "metadata": {
        "id": "OvyoRz4gj8Bb"
      },
      "execution_count": null,
      "outputs": []
    },
    {
      "cell_type": "code",
      "source": [
        "dataset_cols = [\"bike_count\", \"hour\",\"temp\", \"humidity\",  \"wind\", \"visibility\", \"dew_pt_temp\", \"radiation\", \"rain\", \"snow\", \"functional\"]\n",
        "\n",
        "df= pd.read_csv('SeoulBikeData.csv', encoding= 'unicode_escape').drop([\"Date\", \"Holiday\", \"Seasons\"], axis=1)\n",
        "df.columns = dataset_cols\n",
        "df[\"functional\"] = (df[\"functional\"]==\"Yes\").astype(int)\n",
        "df=df[df[\"hour\"]==12]\n",
        "df= df.drop([\"hour\"], axis=1)\n"
      ],
      "metadata": {
        "id": "qqKBL1sCGxWV"
      },
      "execution_count": null,
      "outputs": []
    },
    {
      "cell_type": "code",
      "source": [
        "df= df.drop([\"wind\", \"visibility\", \"functional\"], axis=1)"
      ],
      "metadata": {
        "id": "sm8LdhhzJwpK"
      },
      "execution_count": null,
      "outputs": []
    },
    {
      "cell_type": "code",
      "source": [
        "df.head()"
      ],
      "metadata": {
        "colab": {
          "base_uri": "https://localhost:8080/",
          "height": 206
        },
        "id": "cQsTX2qpHEY8",
        "outputId": "dffe3020-7798-46c3-80a2-86e9b7996c11"
      },
      "execution_count": null,
      "outputs": [
        {
          "output_type": "execute_result",
          "data": {
            "text/plain": [
              "     bike_count  temp  humidity  dew_pt_temp  radiation  rain  snow\n",
              "12          449   1.7        23        -17.2       1.11   0.0   0.0\n",
              "36          479   4.3        41         -7.8       1.09   0.0   0.0\n",
              "60          333   5.8        85          3.4       0.43   0.0   0.0\n",
              "84          393  -0.3        38        -12.9       1.11   0.0   0.0\n",
              "108         321  -2.3        25        -19.7       0.00   0.0   0.0"
            ],
            "text/html": [
              "\n",
              "  <div id=\"df-294f3eab-84d1-44d7-bac2-98e33fdab334\">\n",
              "    <div class=\"colab-df-container\">\n",
              "      <div>\n",
              "<style scoped>\n",
              "    .dataframe tbody tr th:only-of-type {\n",
              "        vertical-align: middle;\n",
              "    }\n",
              "\n",
              "    .dataframe tbody tr th {\n",
              "        vertical-align: top;\n",
              "    }\n",
              "\n",
              "    .dataframe thead th {\n",
              "        text-align: right;\n",
              "    }\n",
              "</style>\n",
              "<table border=\"1\" class=\"dataframe\">\n",
              "  <thead>\n",
              "    <tr style=\"text-align: right;\">\n",
              "      <th></th>\n",
              "      <th>bike_count</th>\n",
              "      <th>temp</th>\n",
              "      <th>humidity</th>\n",
              "      <th>dew_pt_temp</th>\n",
              "      <th>radiation</th>\n",
              "      <th>rain</th>\n",
              "      <th>snow</th>\n",
              "    </tr>\n",
              "  </thead>\n",
              "  <tbody>\n",
              "    <tr>\n",
              "      <th>12</th>\n",
              "      <td>449</td>\n",
              "      <td>1.7</td>\n",
              "      <td>23</td>\n",
              "      <td>-17.2</td>\n",
              "      <td>1.11</td>\n",
              "      <td>0.0</td>\n",
              "      <td>0.0</td>\n",
              "    </tr>\n",
              "    <tr>\n",
              "      <th>36</th>\n",
              "      <td>479</td>\n",
              "      <td>4.3</td>\n",
              "      <td>41</td>\n",
              "      <td>-7.8</td>\n",
              "      <td>1.09</td>\n",
              "      <td>0.0</td>\n",
              "      <td>0.0</td>\n",
              "    </tr>\n",
              "    <tr>\n",
              "      <th>60</th>\n",
              "      <td>333</td>\n",
              "      <td>5.8</td>\n",
              "      <td>85</td>\n",
              "      <td>3.4</td>\n",
              "      <td>0.43</td>\n",
              "      <td>0.0</td>\n",
              "      <td>0.0</td>\n",
              "    </tr>\n",
              "    <tr>\n",
              "      <th>84</th>\n",
              "      <td>393</td>\n",
              "      <td>-0.3</td>\n",
              "      <td>38</td>\n",
              "      <td>-12.9</td>\n",
              "      <td>1.11</td>\n",
              "      <td>0.0</td>\n",
              "      <td>0.0</td>\n",
              "    </tr>\n",
              "    <tr>\n",
              "      <th>108</th>\n",
              "      <td>321</td>\n",
              "      <td>-2.3</td>\n",
              "      <td>25</td>\n",
              "      <td>-19.7</td>\n",
              "      <td>0.00</td>\n",
              "      <td>0.0</td>\n",
              "      <td>0.0</td>\n",
              "    </tr>\n",
              "  </tbody>\n",
              "</table>\n",
              "</div>\n",
              "      <button class=\"colab-df-convert\" onclick=\"convertToInteractive('df-294f3eab-84d1-44d7-bac2-98e33fdab334')\"\n",
              "              title=\"Convert this dataframe to an interactive table.\"\n",
              "              style=\"display:none;\">\n",
              "        \n",
              "  <svg xmlns=\"http://www.w3.org/2000/svg\" height=\"24px\"viewBox=\"0 0 24 24\"\n",
              "       width=\"24px\">\n",
              "    <path d=\"M0 0h24v24H0V0z\" fill=\"none\"/>\n",
              "    <path d=\"M18.56 5.44l.94 2.06.94-2.06 2.06-.94-2.06-.94-.94-2.06-.94 2.06-2.06.94zm-11 1L8.5 8.5l.94-2.06 2.06-.94-2.06-.94L8.5 2.5l-.94 2.06-2.06.94zm10 10l.94 2.06.94-2.06 2.06-.94-2.06-.94-.94-2.06-.94 2.06-2.06.94z\"/><path d=\"M17.41 7.96l-1.37-1.37c-.4-.4-.92-.59-1.43-.59-.52 0-1.04.2-1.43.59L10.3 9.45l-7.72 7.72c-.78.78-.78 2.05 0 2.83L4 21.41c.39.39.9.59 1.41.59.51 0 1.02-.2 1.41-.59l7.78-7.78 2.81-2.81c.8-.78.8-2.07 0-2.86zM5.41 20L4 18.59l7.72-7.72 1.47 1.35L5.41 20z\"/>\n",
              "  </svg>\n",
              "      </button>\n",
              "      \n",
              "  <style>\n",
              "    .colab-df-container {\n",
              "      display:flex;\n",
              "      flex-wrap:wrap;\n",
              "      gap: 12px;\n",
              "    }\n",
              "\n",
              "    .colab-df-convert {\n",
              "      background-color: #E8F0FE;\n",
              "      border: none;\n",
              "      border-radius: 50%;\n",
              "      cursor: pointer;\n",
              "      display: none;\n",
              "      fill: #1967D2;\n",
              "      height: 32px;\n",
              "      padding: 0 0 0 0;\n",
              "      width: 32px;\n",
              "    }\n",
              "\n",
              "    .colab-df-convert:hover {\n",
              "      background-color: #E2EBFA;\n",
              "      box-shadow: 0px 1px 2px rgba(60, 64, 67, 0.3), 0px 1px 3px 1px rgba(60, 64, 67, 0.15);\n",
              "      fill: #174EA6;\n",
              "    }\n",
              "\n",
              "    [theme=dark] .colab-df-convert {\n",
              "      background-color: #3B4455;\n",
              "      fill: #D2E3FC;\n",
              "    }\n",
              "\n",
              "    [theme=dark] .colab-df-convert:hover {\n",
              "      background-color: #434B5C;\n",
              "      box-shadow: 0px 1px 3px 1px rgba(0, 0, 0, 0.15);\n",
              "      filter: drop-shadow(0px 1px 2px rgba(0, 0, 0, 0.3));\n",
              "      fill: #FFFFFF;\n",
              "    }\n",
              "  </style>\n",
              "\n",
              "      <script>\n",
              "        const buttonEl =\n",
              "          document.querySelector('#df-294f3eab-84d1-44d7-bac2-98e33fdab334 button.colab-df-convert');\n",
              "        buttonEl.style.display =\n",
              "          google.colab.kernel.accessAllowed ? 'block' : 'none';\n",
              "\n",
              "        async function convertToInteractive(key) {\n",
              "          const element = document.querySelector('#df-294f3eab-84d1-44d7-bac2-98e33fdab334');\n",
              "          const dataTable =\n",
              "            await google.colab.kernel.invokeFunction('convertToInteractive',\n",
              "                                                     [key], {});\n",
              "          if (!dataTable) return;\n",
              "\n",
              "          const docLinkHtml = 'Like what you see? Visit the ' +\n",
              "            '<a target=\"_blank\" href=https://colab.research.google.com/notebooks/data_table.ipynb>data table notebook</a>'\n",
              "            + ' to learn more about interactive tables.';\n",
              "          element.innerHTML = '';\n",
              "          dataTable['output_type'] = 'display_data';\n",
              "          await google.colab.output.renderOutput(dataTable, element);\n",
              "          const docLink = document.createElement('div');\n",
              "          docLink.innerHTML = docLinkHtml;\n",
              "          element.appendChild(docLink);\n",
              "        }\n",
              "      </script>\n",
              "    </div>\n",
              "  </div>\n",
              "  "
            ]
          },
          "metadata": {},
          "execution_count": 32
        }
      ]
    },
    {
      "cell_type": "code",
      "source": [
        "for label in df.columns[1:]:\n",
        "  plt.scatter(df[label], df[\"bike_count\"])\n",
        "  plt.title(label)\n",
        "  plt.ylabel(\"bike_count at Noon\")\n",
        "  plt.xlabel(label)\n",
        "  plt.show()"
      ],
      "metadata": {
        "colab": {
          "base_uri": "https://localhost:8080/",
          "height": 1000
        },
        "id": "GREDLSwwHHrQ",
        "outputId": "b3841f8e-65c7-4c38-9a60-43db2b9966dc"
      },
      "execution_count": null,
      "outputs": [
        {
          "output_type": "display_data",
          "data": {
            "text/plain": [
              "<Figure size 432x288 with 1 Axes>"
            ],
            "image/png": "[encoded data removed]"
          },
          "metadata": {
            "needs_background": "light"
          }
        },
        {
          "output_type": "display_data",
          "data": {
            "text/plain": [
              "<Figure size 432x288 with 1 Axes>"
            ],
            "image/png": "[encoded data removed]"
          },
          "metadata": {
            "needs_background": "light"
          }
        },
        {
          "output_type": "display_data",
          "data": {
            "text/plain": [
              "<Figure size 432x288 with 1 Axes>"
            ],
            "image/png": "[encoded data removed]"
          },
          "metadata": {
            "needs_background": "light"
          }
        },
        {
          "output_type": "display_data",
          "data": {
            "text/plain": [
              "<Figure size 432x288 with 1 Axes>"
            ],
            "image/png": "[encoded data removed]"
          },
          "metadata": {
            "needs_background": "light"
          }
        },
        {
          "output_type": "display_data",
          "data": {
            "text/plain": [
              "<Figure size 432x288 with 1 Axes>"
            ],
            "image/png": "[encoded data removed]"
          },
          "metadata": {
            "needs_background": "light"
          }
        },
        {
          "output_type": "display_data",
          "data": {
            "text/plain": [
              "<Figure size 432x288 with 1 Axes>"
            ],
            "image/png": "[encoded data removed]"
          },
          "metadata": {
            "needs_background": "light"
          }
        }
      ]
    },
    {
      "cell_type": "markdown",
      "source": [
        "Train/Val/Test\n"
      ],
      "metadata": {
        "id": "uO-DoBC_v9qe"
      }
    },
    {
      "cell_type": "code",
      "source": [
        "train, val, test = np.split(df.sample(frac=1), [int(0.6*len(df)), int(0.8*len(df))])"
      ],
      "metadata": {
        "id": "YxppdgJ_O9eD"
      },
      "execution_count": null,
      "outputs": []
    },
    {
      "cell_type": "code",
      "source": [
        "def get_xy(dataframe, y_label, x_labels=None):\n",
        "  dataframe=copy.deepcopy(dataframe)\n",
        "  if x_labels is None:\n",
        "    x = dataframe[[c for c in dataframe.columns if c!= y_label]].values\n",
        "  else:\n",
        "    if len(x_labels)==1:\n",
        "      x = dataframe[x_labels[0]].values.reshape(-1, 1)\n",
        "    else:\n",
        "      x = dataframe[x_labels].values\n",
        "  y = dataframe[y_label].values.reshape(-1, 1)\n",
        "  data = np.hstack((x, y))\n",
        "\n",
        "  return data, x, y,  \n",
        " \n"
      ],
      "metadata": {
        "id": "Dfc-ltKbPVT4"
      },
      "execution_count": null,
      "outputs": []
    },
    {
      "cell_type": "code",
      "source": [
        "_, x_train_temp, y_train_temp = get_xy(train, \"bike_count\", x_labels=[\"temp\"])\n",
        "_, x_val_temp, y_val_temp = get_xy(val, \"bike_count\", x_labels=[\"temp\"])\n",
        "_, x_test_temp, y_test_temp = get_xy(test, \"bike_count\", x_labels=[\"temp\"])"
      ],
      "metadata": {
        "id": "SHVLf11f3F2J"
      },
      "execution_count": null,
      "outputs": []
    },
    {
      "cell_type": "code",
      "source": [
        "x_train_temp"
      ],
      "metadata": {
        "colab": {
          "base_uri": "https://localhost:8080/"
        },
        "id": "Nx-4KiWJ-JJa",
        "outputId": "f88030a2-df05-4f9b-d297-5a9c3d246437"
      },
      "execution_count": null,
      "outputs": [
        {
          "output_type": "execute_result",
          "data": {
            "text/plain": [
              "array([[  5.5],\n",
              "       [ 17.8],\n",
              "       [ 19.8],\n",
              "       [ 16.2],\n",
              "       [ 25.2],\n",
              "       [ 31.9],\n",
              "       [ 36.5],\n",
              "       [ -1.3],\n",
              "       [  3.9],\n",
              "       [ 28.2],\n",
              "       [  2.9],\n",
              "       [  4.3],\n",
              "       [ 14.9],\n",
              "       [  4.5],\n",
              "       [ 24. ],\n",
              "       [ 16.4],\n",
              "       [  4. ],\n",
              "       [ 15.7],\n",
              "       [ 33.6],\n",
              "       [  4. ],\n",
              "       [ 35.5],\n",
              "       [  1.7],\n",
              "       [  9.1],\n",
              "       [ 33.7],\n",
              "       [ 17.4],\n",
              "       [ 30.3],\n",
              "       [  2.5],\n",
              "       [ -6.5],\n",
              "       [  5.3],\n",
              "       [ 14.7],\n",
              "       [ 18.4],\n",
              "       [ 33.4],\n",
              "       [ 12.8],\n",
              "       [ 21.7],\n",
              "       [ 27.8],\n",
              "       [  5.5],\n",
              "       [ 34.1],\n",
              "       [ 20.3],\n",
              "       [ 25.2],\n",
              "       [ 30.8],\n",
              "       [ 24.1],\n",
              "       [ 20. ],\n",
              "       [ 15.3],\n",
              "       [ 22.2],\n",
              "       [  7.3],\n",
              "       [ 26.7],\n",
              "       [ 13.8],\n",
              "       [ 23.2],\n",
              "       [ 19. ],\n",
              "       [ 20.5],\n",
              "       [ -9.6],\n",
              "       [ 10. ],\n",
              "       [ 23.8],\n",
              "       [ 25.8],\n",
              "       [ 20.8],\n",
              "       [  6. ],\n",
              "       [ 13.9],\n",
              "       [ 10.7],\n",
              "       [ 18.2],\n",
              "       [ 16.6],\n",
              "       [ -1.5],\n",
              "       [  0.5],\n",
              "       [ 15.2],\n",
              "       [ 19.1],\n",
              "       [ 24.2],\n",
              "       [ -3.7],\n",
              "       [ 17.2],\n",
              "       [  6.9],\n",
              "       [ 31.2],\n",
              "       [ 12.3],\n",
              "       [ 23.9],\n",
              "       [  9.3],\n",
              "       [ 24.5],\n",
              "       [ 11.7],\n",
              "       [ 26.2],\n",
              "       [ 24.9],\n",
              "       [ 31.1],\n",
              "       [ 28.1],\n",
              "       [ 29.8],\n",
              "       [ -8.6],\n",
              "       [ 12.5],\n",
              "       [ -4.9],\n",
              "       [ 18.7],\n",
              "       [ -8.2],\n",
              "       [ 31.1],\n",
              "       [  6.6],\n",
              "       [ 24.3],\n",
              "       [ 22.5],\n",
              "       [ 10.1],\n",
              "       [ 28.4],\n",
              "       [ 16.8],\n",
              "       [  3.2],\n",
              "       [ 17.3],\n",
              "       [  2.5],\n",
              "       [ 14.5],\n",
              "       [ 36.8],\n",
              "       [ 28.3],\n",
              "       [  6.9],\n",
              "       [ -2. ],\n",
              "       [ 33.2],\n",
              "       [  1.2],\n",
              "       [  8.3],\n",
              "       [ 28.9],\n",
              "       [ -8.3],\n",
              "       [ 23.2],\n",
              "       [ -0.3],\n",
              "       [ 33.9],\n",
              "       [  1.1],\n",
              "       [ 20.5],\n",
              "       [ -6. ],\n",
              "       [ -0.3],\n",
              "       [  7.9],\n",
              "       [ 19.2],\n",
              "       [ 27.4],\n",
              "       [ -2.5],\n",
              "       [ 31.7],\n",
              "       [ 25.7],\n",
              "       [ 33.8],\n",
              "       [  3.7],\n",
              "       [ 35.2],\n",
              "       [ 25.2],\n",
              "       [ 18. ],\n",
              "       [ 23.4],\n",
              "       [  3.9],\n",
              "       [  4.7],\n",
              "       [  7.1],\n",
              "       [ 20.7],\n",
              "       [ 30.1],\n",
              "       [ -2.5],\n",
              "       [ 21.4],\n",
              "       [ 16.6],\n",
              "       [ 19. ],\n",
              "       [  4.8],\n",
              "       [ -2.9],\n",
              "       [  1.5],\n",
              "       [ -1. ],\n",
              "       [  4.1],\n",
              "       [  5.9],\n",
              "       [  8.1],\n",
              "       [  2.2],\n",
              "       [ 30.9],\n",
              "       [ 15.1],\n",
              "       [ 28.2],\n",
              "       [ 25. ],\n",
              "       [ 13.7],\n",
              "       [  5.4],\n",
              "       [ 25.7],\n",
              "       [ 21.7],\n",
              "       [ -6. ],\n",
              "       [-11.3],\n",
              "       [  2.7],\n",
              "       [ -1.6],\n",
              "       [ 36.6],\n",
              "       [-14.4],\n",
              "       [ 32.6],\n",
              "       [ 24.2],\n",
              "       [ 19. ],\n",
              "       [ 34.1],\n",
              "       [ 13.4],\n",
              "       [ 25.2],\n",
              "       [ 16.5],\n",
              "       [ 22.9],\n",
              "       [ 11.4],\n",
              "       [ 30.1],\n",
              "       [  5.6],\n",
              "       [  0.9],\n",
              "       [ 22.1],\n",
              "       [ 19.4],\n",
              "       [ -2.3],\n",
              "       [ 25.8],\n",
              "       [  0.9],\n",
              "       [ 32.5],\n",
              "       [ 18.2],\n",
              "       [ 26.3],\n",
              "       [  7.6],\n",
              "       [ 22.4],\n",
              "       [ 11.5],\n",
              "       [ 33.4],\n",
              "       [ -5.2],\n",
              "       [ 20. ],\n",
              "       [ 23.1],\n",
              "       [ 10.3],\n",
              "       [ 22.1],\n",
              "       [ -4.9],\n",
              "       [  0. ],\n",
              "       [-12.8],\n",
              "       [ 10.4],\n",
              "       [ 26.3],\n",
              "       [ 31.9],\n",
              "       [ 27. ],\n",
              "       [ 20.5],\n",
              "       [ 15.5],\n",
              "       [ 26.9],\n",
              "       [ 17.7],\n",
              "       [  6.8],\n",
              "       [ -7.8],\n",
              "       [ -3.2],\n",
              "       [  1.4],\n",
              "       [ 19.4],\n",
              "       [ 25.8],\n",
              "       [ 27.9],\n",
              "       [  7.7],\n",
              "       [  7. ],\n",
              "       [  9. ],\n",
              "       [ 10.4],\n",
              "       [  2.4],\n",
              "       [ 26.1],\n",
              "       [ 25.3],\n",
              "       [ 21.8],\n",
              "       [ 34.2],\n",
              "       [ 18.9],\n",
              "       [ 19.5],\n",
              "       [ 16.8],\n",
              "       [ -1.1],\n",
              "       [ 28.9],\n",
              "       [ 32.4],\n",
              "       [  2.4],\n",
              "       [ 34.5],\n",
              "       [ -3.9]])"
            ]
          },
          "metadata": {},
          "execution_count": 37
        }
      ]
    },
    {
      "cell_type": "code",
      "source": [
        "temp_reg = LinearRegression()\n",
        "temp_reg.fit(x_train_temp, y_train_temp)"
      ],
      "metadata": {
        "colab": {
          "base_uri": "https://localhost:8080/"
        },
        "id": "COmGYWdpA2xY",
        "outputId": "8f60e4e3-063c-464c-cdd7-3d44abb95699"
      },
      "execution_count": null,
      "outputs": [
        {
          "output_type": "execute_result",
          "data": {
            "text/plain": [
              "LinearRegression()"
            ]
          },
          "metadata": {},
          "execution_count": 38
        }
      ]
    },
    {
      "cell_type": "code",
      "source": [
        "print(temp_reg.coef_, temp_reg.intercept_)"
      ],
      "metadata": {
        "colab": {
          "base_uri": "https://localhost:8080/"
        },
        "id": "Hl9V1uWzCkUG",
        "outputId": "b0f8be5f-ca03-42a3-c397-af515c34af74"
      },
      "execution_count": null,
      "outputs": [
        {
          "output_type": "stream",
          "name": "stdout",
          "text": [
            "[[19.36302864]] [392.26460899]\n"
          ]
        }
      ]
    },
    {
      "cell_type": "code",
      "source": [
        "temp_reg.score(x_test_temp, y_test_temp)"
      ],
      "metadata": {
        "colab": {
          "base_uri": "https://localhost:8080/"
        },
        "id": "JXrKD6MYDHI1",
        "outputId": "d03ea760-c2e6-405e-af2e-976eae1d8321"
      },
      "execution_count": null,
      "outputs": [
        {
          "output_type": "execute_result",
          "data": {
            "text/plain": [
              "0.2934293172056456"
            ]
          },
          "metadata": {},
          "execution_count": 40
        }
      ]
    },
    {
      "cell_type": "code",
      "source": [
        "plt.scatter(x_train_temp, y_train_temp, label=\"Data\", color = \"blue\")\n",
        "x = tf.linspace(-20, 40, 100)\n",
        "plt.plot(x, temp_reg.predict(np.array(x).reshape(-1, 1)), label = \"fit\", color=\"red\", linewidth=3)\n",
        "plt.legend()\n",
        "plt.title(\"Bikes vs temp\")\n",
        "plt.ylabel(\"number of bikes\")\n",
        "plt.xlabel(\"temp\")\n",
        "plt.show()\n",
        "\n"
      ],
      "metadata": {
        "colab": {
          "base_uri": "https://localhost:8080/",
          "height": 295
        },
        "id": "72Gcsfm-ER6K",
        "outputId": "f4e7831f-78cd-4700-e362-ad4000c0f32e"
      },
      "execution_count": null,
      "outputs": [
        {
          "output_type": "display_data",
          "data": {
            "text/plain": [
              "<Figure size 432x288 with 1 Axes>"
            ],
            "image/png": "[encoded data removed]"
          },
          "metadata": {
            "needs_background": "light"
          }
        }
      ]
    },
    {
      "cell_type": "code",
      "source": [
        "train, val, test = np.split(df.sample(frac=1), [int(0.6*len(df)), int(0.8*len(df))])\n",
        "_, x_train_all, y_train_all = get_xy(train, \"bike_count\", x_labels=df.columns[1:])\n",
        "_, x_val_all, y_val_all = get_xy(val, \"bike_count\", x_labels=df.columns[1:])\n",
        "_, x_test_all, y_test_all = get_xy(test, \"bike_count\", x_labels=df.columns[1:])"
      ],
      "metadata": {
        "id": "usw9FwKa_vkW"
      },
      "execution_count": null,
      "outputs": []
    },
    {
      "cell_type": "code",
      "source": [
        "all_reg =LinearRegression()\n",
        "all_reg.fit(x_train_all, y_train_all)"
      ],
      "metadata": {
        "colab": {
          "base_uri": "https://localhost:8080/"
        },
        "id": "HpkAbIYUaYVV",
        "outputId": "d1cc8e7e-f915-450a-8a87-3c6c29916ffc"
      },
      "execution_count": null,
      "outputs": [
        {
          "output_type": "execute_result",
          "data": {
            "text/plain": [
              "LinearRegression()"
            ]
          },
          "metadata": {},
          "execution_count": 43
        }
      ]
    },
    {
      "cell_type": "code",
      "source": [
        "all_reg.score(x_train_all, y_train_all)"
      ],
      "metadata": {
        "colab": {
          "base_uri": "https://localhost:8080/"
        },
        "id": "Tu5ohh3TmDyi",
        "outputId": "2d987a76-0e25-47ae-c854-b5657e21c1ef"
      },
      "execution_count": null,
      "outputs": [
        {
          "output_type": "execute_result",
          "data": {
            "text/plain": [
              "0.5039715842140082"
            ]
          },
          "metadata": {},
          "execution_count": 44
        }
      ]
    },
    {
      "cell_type": "markdown",
      "source": [
        "gradient descent\n"
      ],
      "metadata": {
        "id": "UFQidAOYIiid"
      }
    },
    {
      "cell_type": "code",
      "source": [
        "x1 = df[\"temp\"]\n",
        "x2= df[\"dew_pt_temp\"]\n",
        "y  = df[\"bike_count\"]\n",
        "x1 =(x1-x1.mean()/x1.std())\n",
        "x2 =(x2-x2.mean()/x2.std())\n",
        "\n",
        "x = np.c_[x1, x2, np.ones(x1.shape[0])]\n",
        "\n",
        "x.shape\n"
      ],
      "metadata": {
        "colab": {
          "base_uri": "https://localhost:8080/"
        },
        "id": "XKEcRYKZIhC0",
        "outputId": "17ece9d2-7496-4633-9f9e-9226cb45a9b7"
      },
      "execution_count": null,
      "outputs": [
        {
          "output_type": "execute_result",
          "data": {
            "text/plain": [
              "(365, 3)"
            ]
          },
          "metadata": {},
          "execution_count": 45
        }
      ]
    },
    {
      "cell_type": "code",
      "source": [
        "learning_rate = 0.01\n",
        "epochs =2000\n",
        "N = y.size\n",
        "np.random.seed(12)\n",
        "coef =np.random.randn(3)\n",
        "print(\"initial of coefficient is\", coef)"
      ],
      "metadata": {
        "colab": {
          "base_uri": "https://localhost:8080/"
        },
        "id": "NwzNcE_MIphJ",
        "outputId": "ad40c2ff-5d0f-48a2-a727-0faf9918da45"
      },
      "execution_count": null,
      "outputs": [
        {
          "output_type": "stream",
          "name": "stdout",
          "text": [
            "initial of coefficient is [ 0.47298583 -0.68142588  0.2424395 ]\n"
          ]
        }
      ]
    },
    {
      "cell_type": "code",
      "source": [
        "def grad(x, y, coef,  epochs, learning_rate):\n",
        "  past_costs=[]\n",
        "  past_coef = [coef]\n",
        "  for i in range(epochs):\n",
        "    prediction = np.dot(x, coef)\n",
        "    error = prediction-y\n",
        "    cost = 1/(2*N) * np.dot(error.T, error)\n",
        "    past_costs.append(cost)\n",
        "    der = 1/(2*N) * learning_rate * np.dot(error.T, error)\n",
        "    coef = coef - der\n",
        "    past_coef.append(coef)\n",
        "  return past_coef, past_costs\n",
        "past_coef, past_costs=grad(x, y, coef, epochs, learning_rate)\n",
        "\n",
        "coef = past_coef[-1]\n",
        "\n",
        "print(\"final values of coeffiences:\", coef)\n"
      ],
      "metadata": {
        "colab": {
          "base_uri": "https://localhost:8080/"
        },
        "id": "OUQ7-GGrIwym",
        "outputId": "dfcd9db2-f5c4-41b8-a9a5-c721b508c231"
      },
      "execution_count": null,
      "outputs": [
        {
          "output_type": "stream",
          "name": "stdout",
          "text": [
            "final values of coeffiences: [nan nan nan]\n"
          ]
        }
      ]
    },
    {
      "cell_type": "code",
      "source": [
        "plt.title(\"Cost Function\")\n",
        "plt.xlabel(\"No of iterations\")\n",
        "plt.ylabel(\"Cost\")\n",
        "plt.plot(past_costs)\n",
        "plt.show()"
      ],
      "metadata": {
        "colab": {
          "base_uri": "https://localhost:8080/",
          "height": 295
        },
        "id": "xykxw2itI5TP",
        "outputId": "e35dab23-7911-402b-f3f7-d722066ee3e3"
      },
      "execution_count": null,
      "outputs": [
        {
          "output_type": "display_data",
          "data": {
            "text/plain": [
              "<Figure size 432x288 with 1 Axes>"
            ],
            "image/png": "[encoded data removed]"
          },
          "metadata": {
            "needs_background": "light"
          }
        }
      ]
    }
  ]
}