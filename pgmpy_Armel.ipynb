{
  "cells": [
    {
      "cell_type": "markdown",
      "metadata": {
        "id": "view-in-github",
        "colab_type": "text"
      },
      "source": [
        "<a href=\"https://colab.research.google.com/github/Bisalia/Crud_app/blob/main/pgmpy_Armel.ipynb\" target=\"_parent\"><img src=\"https://colab.research.google.com/assets/colab-badge.svg\" alt=\"Open In Colab\"/></a>"
      ]
    },
    {
      "cell_type": "code",
      "execution_count": null,
      "id": "260a4d6a",
      "metadata": {
        "id": "260a4d6a"
      },
      "outputs": [],
      "source": [
        "from pgmpy.models import BayesianNetwork\n",
        "from pgmpy.factors.discrete import TabularCPD\n",
        "import networkx as nx\n",
        "import matplotlib.pyplot as plt\n",
        "from pgmpy.inference import VariableElimination\n"
      ]
    },
    {
      "cell_type": "code",
      "execution_count": null,
      "id": "81abf11c",
      "metadata": {
        "id": "81abf11c",
        "outputId": "d6617a26-3ff5-4e31-91e2-8cb43dcb9922"
      },
      "outputs": [
        {
          "name": "stdout",
          "output_type": "stream",
          "text": [
            "+-------+-------+-------+\n",
            "| ML    | ML(0) | ML(1) |\n",
            "+-------+-------+-------+\n",
            "| PE(0) | 0.88  | 0.46  |\n",
            "+-------+-------+-------+\n",
            "| PE(1) | 0.12  | 0.54  |\n",
            "+-------+-------+-------+\n",
            "+-------+-------+-------+-------+-------+\n",
            "| PE    | PE(0) | PE(0) | PE(1) | PE(1) |\n",
            "+-------+-------+-------+-------+-------+\n",
            "| MP    | MP(0) | MP(1) | MP(0) | MP(1) |\n",
            "+-------+-------+-------+-------+-------+\n",
            "| PO(0) | 0.85  | 0.54  | 0.71  | 0.13  |\n",
            "+-------+-------+-------+-------+-------+\n",
            "| PO(1) | 0.15  | 0.46  | 0.29  | 0.87  |\n",
            "+-------+-------+-------+-------+-------+\n"
          ]
        }
      ],
      "source": [
        "# ML=> материал легкийб, PE=> подготовка к экзамину PO=>получил отметку отлично MP => материал разбился\n",
        "model = BayesianNetwork([('ML', 'PE'), \n",
        "                         ('PE', 'PO'), \n",
        "                         ('MP', 'PO')])\n",
        "\n",
        "cpd_ML = TabularCPD('ML', 2, [[0.34], [0.66]])\n",
        "                    \n",
        "cpd_PE = TabularCPD('PE', 2, [[0.88, 0.46],[0.12, 0.54]],\n",
        "                   evidence=['ML'],\n",
        "                   evidence_card=[2])\n",
        "print(cpd_PE)\n",
        "\n",
        "cpd_MP =TabularCPD('MP', 2, [[0.46], [0.54]])\n",
        "\n",
        "cpd_PO = TabularCPD('PO', 2, [[0.85, 0.54, 0.71, 0.13],\n",
        "                              [0.15, 0.46, 0.29, 0.87]],\n",
        "                   evidence=['PE', 'MP'],\n",
        "                   evidence_card=[2, 2])\n",
        "\n",
        "\n",
        "print(cpd_PO)\n"
      ]
    },
    {
      "cell_type": "code",
      "execution_count": null,
      "id": "14ba2a57",
      "metadata": {
        "id": "14ba2a57"
      },
      "outputs": [],
      "source": [
        "\n",
        "model.add_cpds(cpd_ML, cpd_PE, cpd_MP, cpd_PO)"
      ]
    },
    {
      "cell_type": "code",
      "execution_count": null,
      "id": "fc5e28ed",
      "metadata": {
        "id": "fc5e28ed",
        "outputId": "1441cce3-a23f-4894-e694-7fa7ccb183e3"
      },
      "outputs": [
        {
          "data": {
            "text/plain": [
              "True"
            ]
          },
          "execution_count": 91,
          "metadata": {},
          "output_type": "execute_result"
        }
      ],
      "source": [
        "model.check_model()"
      ]
    },
    {
      "cell_type": "markdown",
      "id": "bdc7ce2a",
      "metadata": {
        "id": "bdc7ce2a"
      },
      "source": [
        "model.check_model()"
      ]
    },
    {
      "cell_type": "code",
      "execution_count": null,
      "id": "8143c130",
      "metadata": {
        "scrolled": true,
        "id": "8143c130",
        "outputId": "1e7c78e3-05b2-4642-b7d2-1ff22f3f223d"
      },
      "outputs": [
        {
          "data": {
            "image/png": "[encoded data removed]",
            "text/plain": [
              "<Figure size 432x288 with 1 Axes>"
            ]
          },
          "metadata": {},
          "output_type": "display_data"
        }
      ],
      "source": [
        "nx.draw_circular(model, with_labels=True, arrowsize=50, node_size=1200, font_weight=\"bold\")\n",
        "plt.show()"
      ]
    },
    {
      "cell_type": "code",
      "execution_count": null,
      "id": "2efb8e62",
      "metadata": {
        "id": "2efb8e62",
        "outputId": "59ded62a-7c25-4dbd-b01c-177c83070c44"
      },
      "outputs": [
        {
          "name": "stdout",
          "output_type": "stream",
          "text": [
            "+-------+-----------+\n",
            "| PE    |   phi(PE) |\n",
            "+=======+===========+\n",
            "| PE(0) |    0.8800 |\n",
            "+-------+-----------+\n",
            "| PE(1) |    0.1200 |\n",
            "+-------+-----------+\n"
          ]
        }
      ],
      "source": [
        "#inference by elimination \n",
        "inference = VariableElimination(model)\n",
        "\n",
        "post_PE= inference.query([\"PE\"], evidence={\"ML\": 0})\n",
        "\n",
        "print(post_PE)\n"
      ]
    },
    {
      "cell_type": "code",
      "execution_count": null,
      "id": "15bfbb4e",
      "metadata": {
        "id": "15bfbb4e",
        "outputId": "36b1f573-12c6-441d-9ef6-31a8aa44972b"
      },
      "outputs": [
        {
          "name": "stdout",
          "output_type": "stream",
          "text": [
            "+-------+-----------+\n",
            "| PO    |   phi(PO) |\n",
            "+=======+===========+\n",
            "| PO(0) |    0.8500 |\n",
            "+-------+-----------+\n",
            "| PO(1) |    0.1500 |\n",
            "+-------+-----------+\n"
          ]
        }
      ],
      "source": [
        "post_PO = inference.query([\"PO\"], evidence={\"PE\": 0, \"MP\":0})\n",
        "\n",
        "print(post_PO)"
      ]
    },
    {
      "cell_type": "code",
      "execution_count": null,
      "id": "f0701781",
      "metadata": {
        "id": "f0701781"
      },
      "outputs": [],
      "source": []
    }
  ],
  "metadata": {
    "kernelspec": {
      "display_name": "Python 3 (ipykernel)",
      "language": "python",
      "name": "python3"
    },
    "language_info": {
      "codemirror_mode": {
        "name": "ipython",
        "version": 3
      },
      "file_extension": ".py",
      "mimetype": "text/x-python",
      "name": "python",
      "nbconvert_exporter": "python",
      "pygments_lexer": "ipython3",
      "version": "3.9.12"
    },
    "colab": {
      "provenance": [],
      "toc_visible": true,
      "include_colab_link": true
    }
  },
  "nbformat": 4,
  "nbformat_minor": 5
}